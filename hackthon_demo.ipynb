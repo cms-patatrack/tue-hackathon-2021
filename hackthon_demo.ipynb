{
 "cells": [
  {
   "cell_type": "code",
   "execution_count": 14,
   "metadata": {
    "collapsed": false
   },
   "outputs": [],
   "source": [
    "#!pip install numpy uproot"
   ]
  },
  {
   "cell_type": "code",
   "execution_count": 15,
   "metadata": {
    "collapsed": false
   },
   "outputs": [],
   "source": [
    "import awkward as ak\n",
    "import numpy as np\n",
    "import uproot as uproot"
   ]
  },
  {
   "cell_type": "code",
   "execution_count": 16,
   "metadata": {
    "collapsed": false
   },
   "outputs": [
    {
     "data": {
      "text/plain": [
       "['lCToTSTsAssoc;1', 'lCToTSTsAssoc/lCTo3simTS_tree;1']"
      ]
     },
     "execution_count": 16,
     "metadata": {},
     "output_type": "execute_result"
    }
   ],
   "source": [
    "file = uproot.open('merged.root')\n",
    "file.keys()"
   ]
  },
  {
   "cell_type": "code",
   "execution_count": 17,
   "metadata": {
    "collapsed": false
   },
   "outputs": [
    {
     "name": "stdout",
     "output_type": "stream",
     "text": [
      "name                 | typename                 | interpretation                \n",
      "---------------------+--------------------------+-------------------------------\n",
      "run                  | int32_t                  | AsDtype('>i4')\n",
      "event                | int32_t                  | AsDtype('>i4')\n",
      "lumi                 | int32_t                  | AsDtype('>i4')\n",
      "id                   | std::vector<int32_t>     | AsJagged(AsDtype('>i4'), he...\n",
      "pos_x                | std::vector<float>       | AsJagged(AsDtype('>f4'), he...\n",
      "pos_y                | std::vector<float>       | AsJagged(AsDtype('>f4'), he...\n",
      "pos_z                | std::vector<float>       | AsJagged(AsDtype('>f4'), he...\n",
      "energy               | std::vector<float>       | AsJagged(AsDtype('>f4'), he...\n",
      "time                 | std::vector<float>       | AsJagged(AsDtype('>f4'), he...\n",
      "time_error           | std::vector<float>       | AsJagged(AsDtype('>f4'), he...\n",
      "eta                  | std::vector<float>       | AsJagged(AsDtype('>f4'), he...\n",
      "phi                  | std::vector<float>       | AsJagged(AsDtype('>f4'), he...\n",
      "layer                | std::vector<int32_t>     | AsJagged(AsDtype('>i4'), he...\n",
      "simTst_idx           | std::vector<std::vect... | AsObjects(AsVector(True, As...\n",
      "enFraction           | std::vector<std::vect... | AsObjects(AsVector(True, As...\n"
     ]
    }
   ],
   "source": [
    "events = file['lCToTSTsAssoc/lCTo3simTS_tree']\n",
    "events.show()"
   ]
  },
  {
   "cell_type": "markdown",
   "metadata": {},
   "source": [
    "## Input Features"
   ]
  },
  {
   "cell_type": "markdown",
   "metadata": {},
   "source": [
    " - `event`: the index of the events in the file\n",
    " \n",
    "Each event contains a varying number of point. For each point:\n",
    " - `pos_x`, `pos_y`, `pos_z`: (x,y,z) coordinates of the point\n",
    " - `time`: time of the point (not all points have timing information -- a value of -99 indicates no timing information)\n",
    " - `eta`, `phi`: [pseudorapidity](https://en.wikipedia.org/wiki/Pseudorapidity), azimuth angle of the point\n",
    " - `layer`: layer number of the point\n",
    " - `energy`: energy of the point\n",
    "\n",
    "**[Note]** `simTst_idx` and `enFraction` are the truth labels.\n",
    "\n",
    "These features are [JaggedArray](https://github.com/scikit-hep/awkward-0.x). This can be thought of as an array of arrays, where the first level of indices correspond to the event indices, and the second level correspond to the LCs within each event."
   ]
  },
  {
   "cell_type": "code",
   "execution_count": 18,
   "metadata": {
    "collapsed": false,
    "scrolled": true
   },
   "outputs": [
    {
     "data": {
      "text/plain": [
       "3800"
      ]
     },
     "execution_count": 18,
     "metadata": {},
     "output_type": "execute_result"
    }
   ],
   "source": [
    "# To get the total number of events in the file\n",
    "len(events['event'].array())"
   ]
  },
  {
   "cell_type": "code",
   "execution_count": 19,
   "metadata": {
    "collapsed": false
   },
   "outputs": [
    {
     "data": {
      "text/plain": [
       "<Array [[0.0447, 0.0599, ... 0.105, 0.0917]] type='3800 * var * float32'>"
      ]
     },
     "execution_count": 19,
     "metadata": {},
     "output_type": "execute_result"
    }
   ],
   "source": [
    "# To get the energies of all points from all events in the file\n",
    "energy = events['energy'].array()\n",
    "energy"
   ]
  },
  {
   "cell_type": "code",
   "execution_count": 20,
   "metadata": {
    "collapsed": false
   },
   "outputs": [
    {
     "data": {
      "text/plain": [
       "<Array [0.0447, 0.0599, ... 0.0501, 0.363] type='550 * float32'>"
      ]
     },
     "execution_count": 20,
     "metadata": {},
     "output_type": "execute_result"
    }
   ],
   "source": [
    "# To access energy of all points from the first event: this returns a regular numpy array\n",
    "energy[0]"
   ]
  },
  {
   "cell_type": "code",
   "execution_count": 21,
   "metadata": {
    "collapsed": false
   },
   "outputs": [
    {
     "data": {
      "text/plain": [
       "<Array [550, 562, 624, 440, ... 683, 505, 613] type='3800 * int64'>"
      ]
     },
     "execution_count": 21,
     "metadata": {},
     "output_type": "execute_result"
    }
   ],
   "source": [
    "# To get the number of points in each event\n",
    "ak.num(energy)"
   ]
  },
  {
   "cell_type": "code",
   "execution_count": 22,
   "metadata": {
    "collapsed": false,
    "scrolled": false
   },
   "outputs": [
    {
     "data": {
      "text/plain": [
       "<Array [[0.0447, 0.0599], ... [0.0546, 0.0148]] type='3800 * 2 * ?float32'>"
      ]
     },
     "execution_count": 22,
     "metadata": {},
     "output_type": "execute_result"
    }
   ],
   "source": [
    "# to pad/truncate to a regular 2D array\n",
    "ak.pad_none(energy, 2, clip=True)"
   ]
  },
  {
   "cell_type": "code",
   "execution_count": 23,
   "metadata": {
    "collapsed": false
   },
   "outputs": [
    {
     "data": {
      "text/plain": [
       "<Array [0.0447, 0.0599, ... 0.105, 0.0917] type='1864424 * float32'>"
      ]
     },
     "execution_count": 23,
     "metadata": {},
     "output_type": "execute_result"
    }
   ],
   "source": [
    "# To flatten the jagged array to a 1d array\n",
    "ak.flatten(energy)"
   ]
  },
  {
   "cell_type": "code",
   "execution_count": 24,
   "metadata": {
    "collapsed": false,
    "scrolled": true
   },
   "outputs": [
    {
     "data": {
      "text/plain": [
       "1864424"
      ]
     },
     "execution_count": 24,
     "metadata": {},
     "output_type": "execute_result"
    }
   ],
   "source": [
    "# To get the total number of points within the events\n",
    "len(ak.flatten(energy))"
   ]
  },
  {
   "cell_type": "markdown",
   "metadata": {},
   "source": [
    "### Truth definition:\n",
    "\n",
    "The target is to assign each point to up to 3 particle showers - aka Tracksters - sorted by the higher fraction of point's energy contained. The truth information is as follows:\n",
    "\n",
    " - `simTst_idx`: index of the (up to 3) showers associated with the point at hand; if the point is associated to less than 3 showers, the remaining array elements are -1;\n",
    " - `enFraction`: the fraction of the point's energy that should be assigned to each of the (up to 3) showers."
   ]
  },
  {
   "cell_type": "code",
   "execution_count": 25,
   "metadata": {
    "collapsed": false
   },
   "outputs": [
    {
     "data": {
      "text/plain": [
       "<Array [[1, -1, -1], [0, ... -1], [0, -1, -1]] type='550 * var * int64'>"
      ]
     },
     "execution_count": 25,
     "metadata": {},
     "output_type": "execute_result"
    }
   ],
   "source": [
    "simTst_idx = events['simTst_idx'].array()\n",
    "simTst_idx[0]"
   ]
  },
  {
   "cell_type": "code",
   "execution_count": 26,
   "metadata": {
    "collapsed": false
   },
   "outputs": [
    {
     "data": {
      "text/plain": [
       "<Array [[1, -1, -1], [1, ... -1], [1, -1, -1]] type='550 * var * float64'>"
      ]
     },
     "execution_count": 26,
     "metadata": {},
     "output_type": "execute_result"
    }
   ],
   "source": [
    "enFraction = events['enFraction'].array()\n",
    "enFraction[0]"
   ]
  }
 ],
 "metadata": {
  "kernelspec": {
   "display_name": "Python 3",
   "language": "python",
   "name": "python3"
  },
  "language_info": {
   "codemirror_mode": {
    "name": "ipython",
    "version": 3
   },
   "file_extension": ".py",
   "mimetype": "text/x-python",
   "name": "python",
   "nbconvert_exporter": "python",
   "pygments_lexer": "ipython3",
   "version": "3.9.5"
  }
 },
 "nbformat": 4,
 "nbformat_minor": 4
}
