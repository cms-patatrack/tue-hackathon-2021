{
 "cells": [
  {
   "cell_type": "code",
   "execution_count": null,
   "metadata": {},
   "outputs": [],
   "source": [
    "#!pip install numpy uproot"
   ]
  },
  {
   "cell_type": "code",
   "execution_count": null,
   "metadata": {},
   "outputs": [],
   "source": [
    "import awkward as ak\n",
    "import numpy as np\n",
    "import uproot as uproot"
   ]
  },
  {
   "cell_type": "code",
   "execution_count": null,
   "metadata": {},
   "outputs": [],
   "source": [
    "file = uproot.open('merged.root')\n",
    "file.keys()"
   ]
  },
  {
   "cell_type": "code",
   "execution_count": null,
   "metadata": {},
   "outputs": [],
   "source": [
    "events = file['lCToTSTsAssoc/lCTo3simTS_tree']\n",
    "events.show()"
   ]
  },
  {
   "cell_type": "markdown",
   "metadata": {},
   "source": [
    "## Input Features"
   ]
  },
  {
   "cell_type": "markdown",
   "metadata": {},
   "source": [
    " - `event`: the index of the events in the file\n",
    " \n",
    "Each event contains a varying number of point. For each point:\n",
    " - `pos_x`, `pos_y`, `pos_z`: (x,y,z) coordinates of the point\n",
    " - `time`: time of the point (not all points have timing information -- a value of -99 indicates no timing information)\n",
    " - `eta`, `phi`: [pseudorapidity](https://en.wikipedia.org/wiki/Pseudorapidity), azimuth angle of the point\n",
    " - `layer`: layer number of the point\n",
    " - `energy`: energy of the point\n",
    "\n",
    "**[Note]** `simTst_idx` and `enFraction` are the truth labels.\n",
    "\n",
    "These features are [JaggedArray](https://github.com/scikit-hep/awkward-0.x). This can be thought of as an array of arrays, where the first level of indices correspond to the event indices, and the second level correspond to the LCs within each event."
   ]
  },
  {
   "cell_type": "code",
   "execution_count": null,
   "metadata": {
    "scrolled": true
   },
   "outputs": [],
   "source": [
    "# To get the total number of events in the file\n",
    "totEvents = len(events['event'].array())\n",
    "totEvents"
   ]
  },
  {
   "cell_type": "code",
   "execution_count": null,
   "metadata": {},
   "outputs": [],
   "source": [
    "# To get the information of all points from all events in the file\n",
    "id = events['id'].array()\n",
    "pos_x = events['pos_x'].array()\n",
    "pos_y = events['pos_y'].array()\n",
    "pos_z = events['pos_z'].array()\n",
    "energy = events['energy'].array()\n",
    "eta = events['eta'].array()\n",
    "phi = events['phi'].array()\n"
   ]
  },
  {
   "cell_type": "code",
   "execution_count": null,
   "metadata": {},
   "outputs": [],
   "source": [
    "# To access energy of all points from the first event: this returns a regular numpy array\n",
    "energy[0]"
   ]
  },
  {
   "cell_type": "code",
   "execution_count": null,
   "metadata": {},
   "outputs": [],
   "source": [
    "# To get the number of points in each event\n",
    "nPoints_perEv = ak.num(energy)\n",
    "nPoints_perEv"
   ]
  },
  {
   "cell_type": "code",
   "execution_count": null,
   "metadata": {
    "scrolled": false
   },
   "outputs": [],
   "source": [
    "# to pad/truncate to a regular 2D array\n",
    "ak.pad_none(energy, 2, clip=True)"
   ]
  },
  {
   "cell_type": "code",
   "execution_count": null,
   "metadata": {},
   "outputs": [],
   "source": [
    "# To flatten the jagged array to a 1d array\n",
    "ak.flatten(energy)"
   ]
  },
  {
   "cell_type": "code",
   "execution_count": null,
   "metadata": {
    "scrolled": true
   },
   "outputs": [],
   "source": [
    "# To get the total number of points within the events\n",
    "len(ak.flatten(energy))"
   ]
  },
  {
   "cell_type": "markdown",
   "metadata": {},
   "source": [
    "### Truth definition\n",
    "\n",
    "The target is to assign each point to up to 3 particle showers - aka Tracksters - sorted by the higher fraction of point's energy contained. The truth information is as follows:\n",
    "\n",
    " - `simTst_idx`: index of the (up to 3) showers associated with the point at hand; if the point is associated to less than 3 showers, the remaining array elements are -1;\n",
    " - `enFraction`: the fraction of the point's energy that should be assigned to each of the (up to 3) showers."
   ]
  },
  {
   "cell_type": "code",
   "execution_count": null,
   "metadata": {},
   "outputs": [],
   "source": [
    "simTst_idx = events['simTst_idx'].array()\n",
    "simTst_idx[0]"
   ]
  },
  {
   "cell_type": "code",
   "execution_count": null,
   "metadata": {},
   "outputs": [],
   "source": [
    "enFraction = events['enFraction'].array()\n",
    "enFraction[0]"
   ]
  },
  {
   "cell_type": "markdown",
   "metadata": {},
   "source": [
    "## Pattern Recognition\n",
    "\n",
    "An example of pattern recognition is provided. \n",
    "In first approximation it looks like points belonging to the same particle have very similar eta and phi coordinates. \n",
    "Maybe we can just create a big 2D tiling structure, and cluster together all those points that lie in the same tile?"
   ]
  },
  {
   "cell_type": "code",
   "execution_count": null,
   "metadata": {},
   "outputs": [],
   "source": [
    "points = list()\n",
    "\n",
    "for evt in range(totEvents):\n",
    "    points.append(np.array(list(zip(id[evt],pos_x[evt],pos_y[evt],pos_z[evt],eta[evt],phi[evt],energy[evt]))))\n",
    "    \n"
   ]
  },
  {
   "cell_type": "code",
   "execution_count": null,
   "metadata": {},
   "outputs": [],
   "source": [
    "from math import pi\n",
    "\n",
    "# points never exceed 3.2 in eta\n",
    "maxEta = 3.2\n",
    "# points are never smaller than 1.5 in eta\n",
    "minEta = 1.5\n",
    "etaRange = maxEta - minEta\n",
    "nEtaBins = 20\n",
    "nPhiBins = 64\n",
    "# let's linearize the 2-D tiling\n",
    "nBins = nEtaBins * nPhiBins\n",
    "\n",
    "etaBinSize = etaRange/nEtaBins\n",
    "# phi goes from -pi to pi, so phiRange would be 2*pi\n",
    "phiBinSize = 2*pi/nPhiBins"
   ]
  },
  {
   "cell_type": "code",
   "execution_count": null,
   "metadata": {},
   "outputs": [],
   "source": [
    "def clamp(num, min_value, max_value):\n",
    "    \"\"\"Clamps num between two boundaries, min_value and max_value.\"\"\"\n",
    "    return int(max(min(num, max_value), min_value))\n",
    "\n",
    "def etaBin(eta):\n",
    "    bin = (eta - minEta) / etaBinSize\n",
    "    return clamp(bin,0,nEtaBins-1)\n",
    "    \n",
    "\n",
    "def phiBin (phi) : \n",
    "    bin =  (phi + pi) / phiBinSize\n",
    "    return clamp(bin,0,nPhiBins-1)\n",
    "\n",
    "\n",
    "def globalBin(eta, phi):\n",
    "    return phiBin(phi) + etaBin(eta) * nPhiBins\n",
    "\n",
    "output_idx  = list()\n",
    "output_enFr = list()\n",
    "allTracksters = list()\n",
    "#for evt in range(totEvents):\n",
    "totEvents = 20\n",
    "for evt in range(totEvents):\n",
    "    # the histogram contains a list of point ids per bin\n",
    "    histogram = list()\n",
    "    for i in range(nBins):\n",
    "        histogram.append(list())\n",
    "    tracksters = list()\n",
    "    for p in points[evt] :\n",
    "        # given eta and phi of a point, find the bin in the histogram \n",
    "        binId = globalBin(p[4],p[5])\n",
    "        bin = histogram[binId]\n",
    "        # append the id of the point to the list of the bin\n",
    "        bin.append(int(p[0]))\n",
    "    # now that we have filled the histogram,\n",
    "    # check the bins that contain at least 5 points\n",
    "    # and create a trackster with those ids\n",
    "    for bin in histogram :\n",
    "        tmpTrackster = []\n",
    "        for point_id in bin:\n",
    "            tmpTrackster.append(point_id)\n",
    "        if len(tmpTrackster)>0:\n",
    "            tracksters.append(tmpTrackster)\n",
    "    \n",
    "    # create output lists \n",
    "    # for every point we want as a result the three top tracksters it contributed to\n",
    "    output_idx_tmp = [[-1, -1, -1] for point in range(len(points[evt]))]\n",
    "    # and the fraction of the energy that was contributed to it\n",
    "    output_enFr_tmp = [[0.0, 0.0, 0.0] for point in range(len(points[evt]))]\n",
    "\n",
    "    for tracksterId in range(len(tracksters)):\n",
    "    #     print(\"trackster: \", tracksterId, \" contains \", tracksters[tracksterId])\n",
    "\n",
    "        # I found at most only one trackster per point, which will get fraction 1.0\n",
    "        for lcId in tracksters[tracksterId]:\n",
    "            output_idx_tmp[lcId][0] = tracksterId\n",
    "            output_enFr_tmp[lcId][0] = 1.0\n",
    "    # for lcId in output_idx_tmp:\n",
    "    #     print(\"layercluster \", lcId, \" associated to trackster : \" , lcId[0])\n",
    "    # Adding my results to my global output for validation\n",
    "    output_idx.append(output_idx_tmp)\n",
    "    output_enFr.append(output_enFr_tmp)\n",
    "    allTracksters.append(tracksters)\n",
    "    print(len(allTracksters))\n",
    "          \n"
   ]
  },
  {
   "cell_type": "code",
   "execution_count": null,
   "metadata": {},
   "outputs": [],
   "source": [
    "# print (output_idx[0])"
   ]
  },
  {
   "cell_type": "code",
   "execution_count": null,
   "metadata": {},
   "outputs": [],
   "source": [
    "import matplotlib.pyplot as plt\n",
    "from math import ceil\n",
    "fig = plt.figure()\n",
    "ax = fig.add_subplot(projection='3d')\n",
    "eventToVisualize = 0\n",
    "xs = ak.to_numpy(pos_x[eventToVisualize])\n",
    "ys = ak.to_numpy(pos_y[eventToVisualize])\n",
    "zs = ak.to_numpy(pos_z[eventToVisualize])\n",
    "ax.scatter(xs, ys, zs, )\n",
    "plt.show()"
   ]
  },
  {
   "cell_type": "code",
   "execution_count": null,
   "metadata": {
    "scrolled": false
   },
   "outputs": [],
   "source": [
    "\n",
    "## initialize list to hold the LCs\n",
    "## lc_from_sim[0]: all LCs corresponding to SimTrakster 0, \n",
    "## lc_from_sim[1]: all LCs corresponding to SimTrackster 1, etc...\n",
    "lc_idx_from_sim = list()\n",
    "lc_enFrac_from_sim = list()\n",
    "maxElem=0\n",
    "\n",
    "for i_evt in range(totEvents):\n",
    "    for i_sim_trackster in simTst_idx[i_evt]: \n",
    "        tmp_maxElem = np.amax(i_sim_trackster,axis=0)\n",
    "        if (tmp_maxElem>maxElem):\n",
    "            maxElem=tmp_maxElem\n",
    "    for i in range(maxElem+1):\n",
    "        lc_idx_from_sim.append(list())\n",
    "        lc_enFrac_from_sim.append(list())\n",
    "\n",
    "\n",
    "numSimTracksters = 2 #len(lc_idx_from_sim)\n",
    "        \n",
    "simTracksters = list()\n",
    "simTracksters_lcenergy = list()\n",
    "for i in range(totEvents):\n",
    "    simTracksters.append(list())\n",
    "    simTracksters_lcenergy.append(list())\n",
    "\n",
    "    \n",
    "for i_evt in range(totEvents):\n",
    "\n",
    "    \n",
    "    simTracksters_tmp = list()\n",
    "    for i in range(numSimTracksters):\n",
    "        simTracksters_tmp.append(list())\n",
    "\n",
    "\n",
    "    simTracksters_lcenergy_tmp = list()\n",
    "\n",
    "    for i in range(numSimTracksters):\n",
    "        simTracksters_lcenergy_tmp.append(list())\n",
    "\n",
    "\n",
    "    simTracksterTotalEnergy=[0]*numSimTracksters\n",
    "\n",
    "    eventId = i_evt\n",
    "    numberOfLayerClustersInEvent = len(points[eventId])\n",
    "\n",
    "\n",
    "    for lcId in range(numberOfLayerClustersInEvent):\n",
    "        simTrackstersInLC = simTst_idx[eventId][lcId]\n",
    "        energyFractionsOfLCinSimTrackster = enFraction[eventId][lcId]\n",
    "        totalEnergyOfLayerCluster = energy[eventId][lcId]\n",
    "        for i in range(3):\n",
    "            if(simTrackstersInLC[i]!= -1):\n",
    "                simTracksters_tmp[simTrackstersInLC[i]].append(lcId)\n",
    "                simTracksters_lcenergy_tmp[simTrackstersInLC[i]].append(energyFractionsOfLCinSimTrackster[i]*totalEnergyOfLayerCluster)\n",
    "                simTracksterTotalEnergy[simTrackstersInLC[i]] += energyFractionsOfLCinSimTrackster[i]*totalEnergyOfLayerCluster\n",
    "\n",
    "    simTracksters[eventId]          = simTracksters_tmp\n",
    "    simTracksters_lcenergy[eventId] = simTracksters_lcenergy_tmp\n",
    "\n",
    "#print(simTracksters[9][1])\n",
    "print(len(simTracksters[0]))\n",
    "#print(simTracksters_lcenergy)\n",
    "#print(simTracksterTotalEnergy)\n"
   ]
  },
  {
   "cell_type": "code",
   "execution_count": null,
   "metadata": {},
   "outputs": [],
   "source": [
    "## compare SIM and RECO Tracksters\n",
    "\n",
    "def matchLCToSimTrackster(sim_tracksters,lc_from_reco_trackster):\n",
    "    for lc_from_sim_trackster in sim_tracksters:\n",
    "        if (lc_from_reco_trackster == lc_from_sim_trackster):\n",
    "            return True\n",
    "\n",
    "\n",
    "eff_num_0p50 = 0;\n",
    "tot_tracksters = 0;\n",
    "pur_total = [0 for i in range(totEvents)]\n",
    "\n",
    "## loop over the events\n",
    "#for i_evt in range(totEvents):\n",
    "for i_evt in range(totEvents):\n",
    "    \n",
    "    eff_num_0p50_trackster = 0;\n",
    "    tot_tracksters += len(allTracksters[i_evt])\n",
    "    \n",
    "    ## loop over the trackster of each event\n",
    "    for i_reco_trackster in allTracksters[i_evt]:\n",
    "    \n",
    "        sumEn_reco       = [0 for i in range(len(allTracksters[i_evt]))]\n",
    "        sumEn_reco_match = [0 for i in range(numSimTracksters)]\n",
    "\n",
    "        for i_lc_reco in i_reco_trackster:\n",
    "            tmp_lc_sum_en = 0\n",
    "            tmp_simtrackster_indx = -1\n",
    "        \n",
    "            ## check if matched to 1st simtrackster\n",
    "            for i_sim_trackster in range (numSimTracksters): \n",
    "            \n",
    "                tmp_enfraction = enFraction[i_evt]\n",
    "                tmp_lc_sum_en += energy[i_evt][i_lc_reco]*tmp_enfraction[i_lc_reco][0]\n",
    "            \n",
    "                if (matchLCToSimTrackster(simTracksters[i_evt][i_sim_trackster],i_lc_reco)):\n",
    "        \n",
    "                    tmp_lc_energy = energy[i_evt][i_lc_reco]*tmp_enfraction[i_lc_reco][0]\n",
    "                    sumEn_reco_match[i_sim_trackster] += tmp_lc_energy\n",
    "                    tmp_simtrackster_indx = i_sim_trackster\n",
    "    \n",
    "        if ( (tmp_simtrackster_indx!=-1) and \n",
    "             (sumEn_reco_match[tmp_simtrackster_indx]>0.5*simTracksterTotalEnergy[tmp_simtrackster_indx])):\n",
    "            eff_num_0p50 += 1\n",
    "            eff_num_0p50_trackster += 1\n",
    "    \n",
    "        sumEn_reco[i_sim_trackster] = tmp_lc_sum_en\n",
    "            \n",
    "    pur_total[i_evt] = sum(sumEn_reco)/len(sumEn_reco)\n",
    "    print (\"Mean trackster efficiency / evt = \" , eff_num_0p50_trackster/len(allTracksters[i_evt]) )\n",
    "    print (\"Mean trackster purity / evt     = \" , sum(sumEn_reco)/len(sumEn_reco) )\n",
    "\n",
    "print (\" \")\n",
    "print (\"Reco trackster efficiency = \" , eff_num_0p50/tot_tracksters )\n",
    "print (\"Reco trackster purity     = \" , sum(pur_total)/10 )\n",
    "    \n",
    "\n"
   ]
  },
  {
   "cell_type": "code",
   "execution_count": null,
   "metadata": {},
   "outputs": [],
   "source": []
  }
 ],
 "metadata": {
  "interpreter": {
   "hash": "916dbcbb3f70747c44a77c7bcd40155683ae19c65e1c03b4aa3499c5328201f1"
  },
  "kernelspec": {
   "display_name": "Python 3",
   "language": "python",
   "name": "python3"
  },
  "language_info": {
   "codemirror_mode": {
    "name": "ipython",
    "version": 3
   },
   "file_extension": ".py",
   "mimetype": "text/x-python",
   "name": "python",
   "nbconvert_exporter": "python",
   "pygments_lexer": "ipython3",
   "version": "3.8.8"
  }
 },
 "nbformat": 4,
 "nbformat_minor": 4
}
