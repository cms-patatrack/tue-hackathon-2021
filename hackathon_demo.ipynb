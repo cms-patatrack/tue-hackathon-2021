{
 "cells": [
  {
   "cell_type": "code",
   "execution_count": 1,
   "metadata": {},
   "outputs": [],
   "source": [
    "#!pip install numpy uproot"
   ]
  },
  {
   "cell_type": "code",
   "execution_count": 2,
   "metadata": {},
   "outputs": [],
   "source": [
    "import awkward as ak\n",
    "import numpy as np\n",
    "import uproot as uproot"
   ]
  },
  {
   "cell_type": "code",
   "execution_count": 3,
   "metadata": {},
   "outputs": [
    {
     "data": {
      "text/plain": [
       "['lCToTSTsAssoc;1', 'lCToTSTsAssoc/lCTo3simTS_tree;1']"
      ]
     },
     "execution_count": 3,
     "metadata": {},
     "output_type": "execute_result"
    }
   ],
   "source": [
    "file = uproot.open('merged.root')\n",
    "file.keys()"
   ]
  },
  {
   "cell_type": "code",
   "execution_count": 4,
   "metadata": {},
   "outputs": [
    {
     "name": "stdout",
     "output_type": "stream",
     "text": [
      "name                 | typename                 | interpretation                \n",
      "---------------------+--------------------------+-------------------------------\n",
      "run                  | int32_t                  | AsDtype('>i4')\n",
      "event                | int32_t                  | AsDtype('>i4')\n",
      "lumi                 | int32_t                  | AsDtype('>i4')\n",
      "id                   | std::vector<int32_t>     | AsJagged(AsDtype('>i4'), he...\n",
      "pos_x                | std::vector<float>       | AsJagged(AsDtype('>f4'), he...\n",
      "pos_y                | std::vector<float>       | AsJagged(AsDtype('>f4'), he...\n",
      "pos_z                | std::vector<float>       | AsJagged(AsDtype('>f4'), he...\n",
      "energy               | std::vector<float>       | AsJagged(AsDtype('>f4'), he...\n",
      "time                 | std::vector<float>       | AsJagged(AsDtype('>f4'), he...\n",
      "time_error           | std::vector<float>       | AsJagged(AsDtype('>f4'), he...\n",
      "eta                  | std::vector<float>       | AsJagged(AsDtype('>f4'), he...\n",
      "phi                  | std::vector<float>       | AsJagged(AsDtype('>f4'), he...\n",
      "layer                | std::vector<int32_t>     | AsJagged(AsDtype('>i4'), he...\n",
      "simTst_idx           | std::vector<std::vect... | AsObjects(AsVector(True, As...\n",
      "enFraction           | std::vector<std::vect... | AsObjects(AsVector(True, As...\n"
     ]
    }
   ],
   "source": [
    "events = file['lCToTSTsAssoc/lCTo3simTS_tree']\n",
    "events.show()"
   ]
  },
  {
   "cell_type": "markdown",
   "metadata": {},
   "source": [
    "## Input Features"
   ]
  },
  {
   "cell_type": "markdown",
   "metadata": {},
   "source": [
    " - `event`: the index of the events in the file\n",
    " \n",
    "Each event contains a varying number of point. For each point:\n",
    " - `pos_x`, `pos_y`, `pos_z`: (x,y,z) coordinates of the point\n",
    " - `time`: time of the point (not all points have timing information -- a value of -99 indicates no timing information)\n",
    " - `eta`, `phi`: [pseudorapidity](https://en.wikipedia.org/wiki/Pseudorapidity), azimuth angle of the point\n",
    " - `layer`: layer number of the point\n",
    " - `energy`: energy of the point\n",
    "\n",
    "**[Note]** `simTst_idx` and `enFraction` are the truth labels.\n",
    "\n",
    "These features are [JaggedArray](https://github.com/scikit-hep/awkward-0.x). This can be thought of as an array of arrays, where the first level of indices correspond to the event indices, and the second level correspond to the LCs within each event."
   ]
  },
  {
   "cell_type": "code",
   "execution_count": 5,
   "metadata": {
    "scrolled": true
   },
   "outputs": [
    {
     "data": {
      "text/plain": [
       "3800"
      ]
     },
     "execution_count": 5,
     "metadata": {},
     "output_type": "execute_result"
    }
   ],
   "source": [
    "# To get the total number of events in the file\n",
    "totEvents = len(events['event'].array())\n",
    "totEvents"
   ]
  },
  {
   "cell_type": "code",
   "execution_count": 6,
   "metadata": {},
   "outputs": [],
   "source": [
    "# To get the information of all points from all events in the file\n",
    "id = events['id'].array()\n",
    "pos_x = events['pos_x'].array()\n",
    "pos_y = events['pos_y'].array()\n",
    "pos_z = events['pos_z'].array()\n",
    "energy = events['energy'].array()\n",
    "eta = events['eta'].array()\n",
    "phi = events['phi'].array()\n"
   ]
  },
  {
   "cell_type": "code",
   "execution_count": 7,
   "metadata": {},
   "outputs": [
    {
     "data": {
      "text/plain": [
       "<Array [0.0447, 0.0599, ... 0.0501, 0.363] type='550 * float32'>"
      ]
     },
     "execution_count": 7,
     "metadata": {},
     "output_type": "execute_result"
    }
   ],
   "source": [
    "# To access energy of all points from the first event: this returns a regular numpy array\n",
    "energy[0]"
   ]
  },
  {
   "cell_type": "code",
   "execution_count": 8,
   "metadata": {},
   "outputs": [
    {
     "data": {
      "text/plain": [
       "<Array [550, 562, 624, 440, ... 683, 505, 613] type='3800 * int64'>"
      ]
     },
     "execution_count": 8,
     "metadata": {},
     "output_type": "execute_result"
    }
   ],
   "source": [
    "# To get the number of points in each event\n",
    "nPoints_perEv = ak.num(energy)\n",
    "nPoints_perEv"
   ]
  },
  {
   "cell_type": "code",
   "execution_count": 9,
   "metadata": {
    "scrolled": false
   },
   "outputs": [
    {
     "data": {
      "text/plain": [
       "<Array [[0.0447, 0.0599], ... [0.0546, 0.0148]] type='3800 * 2 * ?float32'>"
      ]
     },
     "execution_count": 9,
     "metadata": {},
     "output_type": "execute_result"
    }
   ],
   "source": [
    "# to pad/truncate to a regular 2D array\n",
    "ak.pad_none(energy, 2, clip=True)"
   ]
  },
  {
   "cell_type": "code",
   "execution_count": 10,
   "metadata": {},
   "outputs": [
    {
     "data": {
      "text/plain": [
       "<Array [0.0447, 0.0599, ... 0.105, 0.0917] type='1864424 * float32'>"
      ]
     },
     "execution_count": 10,
     "metadata": {},
     "output_type": "execute_result"
    }
   ],
   "source": [
    "# To flatten the jagged array to a 1d array\n",
    "ak.flatten(energy)"
   ]
  },
  {
   "cell_type": "code",
   "execution_count": 11,
   "metadata": {
    "scrolled": true
   },
   "outputs": [
    {
     "data": {
      "text/plain": [
       "1864424"
      ]
     },
     "execution_count": 11,
     "metadata": {},
     "output_type": "execute_result"
    }
   ],
   "source": [
    "# To get the total number of points within the events\n",
    "len(ak.flatten(energy))"
   ]
  },
  {
   "cell_type": "markdown",
   "metadata": {},
   "source": [
    "### Truth definition\n",
    "\n",
    "The target is to assign each point to up to 3 particle showers - aka Tracksters - sorted by the higher fraction of point's energy contained. The truth information is as follows:\n",
    "\n",
    " - `simTst_idx`: index of the (up to 3) showers associated with the point at hand; if the point is associated to less than 3 showers, the remaining array elements are -1;\n",
    " - `enFraction`: the fraction of the point's energy that should be assigned to each of the (up to 3) showers."
   ]
  },
  {
   "cell_type": "code",
   "execution_count": 12,
   "metadata": {},
   "outputs": [
    {
     "data": {
      "text/plain": [
       "<Array [[1, -1, -1], [0, ... -1], [0, -1, -1]] type='550 * var * int64'>"
      ]
     },
     "execution_count": 12,
     "metadata": {},
     "output_type": "execute_result"
    }
   ],
   "source": [
    "simTst_idx = events['simTst_idx'].array()\n",
    "simTst_idx[0]"
   ]
  },
  {
   "cell_type": "code",
   "execution_count": 13,
   "metadata": {},
   "outputs": [
    {
     "data": {
      "text/plain": [
       "<Array [[1, -1, -1], [1, ... -1], [1, -1, -1]] type='550 * var * float64'>"
      ]
     },
     "execution_count": 13,
     "metadata": {},
     "output_type": "execute_result"
    }
   ],
   "source": [
    "enFraction = events['enFraction'].array()\n",
    "enFraction[0]"
   ]
  },
  {
   "cell_type": "markdown",
   "metadata": {},
   "source": [
    "## Pattern Recognition\n",
    "\n",
    "An example of pattern recognition is provided. \n",
    "In first approximation it looks like points belonging to the same particle have very similar eta and phi coordinates. \n",
    "Maybe we can just create a big 2D tiling structure, and cluster together all those points that lie in the same tile?"
   ]
  },
  {
   "cell_type": "code",
   "execution_count": 15,
   "metadata": {},
   "outputs": [],
   "source": [
    "points = list()\n",
    "\n",
    "for evt in range(totEvents):\n",
    "    points.append(np.array(list(zip(id[evt],pos_x[evt],pos_y[evt],pos_z[evt],eta[evt],phi[evt],energy[evt]))))\n",
    "    \n"
   ]
  },
  {
   "cell_type": "code",
   "execution_count": 16,
   "metadata": {},
   "outputs": [],
   "source": [
    "from math import pi\n",
    "\n",
    "# points never exceed 3.2 in eta\n",
    "maxEta = 3.2\n",
    "# points are never smaller than 1.5 in eta\n",
    "minEta = 1.5\n",
    "etaRange = maxEta - minEta\n",
    "nEtaBins = 48\n",
    "nPhiBins = 256\n",
    "# let's linearize the 2-D tiling\n",
    "nBins = nEtaBins * nPhiBins\n",
    "\n",
    "etaBinSize = etaRange/nEtaBins\n",
    "# phi goes from -pi to pi, so phiRange would be 2*pi\n",
    "phiBinSize = 2*pi/nPhiBins"
   ]
  },
  {
   "cell_type": "code",
   "execution_count": 18,
   "metadata": {},
   "outputs": [],
   "source": [
    "def clamp(num, min_value, max_value):\n",
    "    \"\"\"Clamps num between two boundaries, min_value and max_value.\"\"\"\n",
    "    return int(max(min(num, max_value), min_value))\n",
    "\n",
    "def etaBin(eta):\n",
    "    bin = (eta - minEta) / etaBinSize\n",
    "    return clamp(bin,0,nEtaBins-1)\n",
    "    \n",
    "\n",
    "def phiBin (phi) : \n",
    "    bin =  (phi + pi) / phiBinSize\n",
    "    return clamp(bin,0,nPhiBins-1)\n",
    "\n",
    "\n",
    "def globalBin(eta, phi):\n",
    "    return phiBin(phi) + etaBin(eta) * nPhiBins\n",
    "\n",
    "output_idx  = list()\n",
    "output_enFr = list()\n",
    "\n",
    "for evt in range(totEvents):\n",
    "    # the histogram contains a list of point ids per bin\n",
    "    histogram = list()\n",
    "    for i in range(nBins):\n",
    "        histogram.append(list())\n",
    "    tracksters = [[]]\n",
    "    for p in points[evt] :\n",
    "        # given eta and phi of a point, find the bin in the histogram \n",
    "        binId = globalBin(p[4],p[5])\n",
    "        bin = histogram[binId]\n",
    "        # append the id of the point to the list of the bin\n",
    "        bin.append(int(p[0]))\n",
    "    # now that we have filled the histogram,\n",
    "    # check the bins that contain at least 5 points\n",
    "    # and create a trackster with those ids\n",
    "    for bin in histogram :\n",
    "        if len(bin) >= 5:\n",
    "            tmpTrackster = []\n",
    "            for point_id in bin:\n",
    "                tmpTrackster.append(point_id)\n",
    "            tracksters.append(tmpTrackster)\n",
    "    \n",
    "    # create output lists \n",
    "    # for every point we want as a result the three top tracksters it contributed to\n",
    "    output_idx_tmp = [[-1, -1, -1] for point in range(len(points[evt]))]\n",
    "    # and the fraction of the energy that was contributed to it\n",
    "    output_enFr_tmp = [[0.0, 0.0, 0.0] for point in range(len(points[evt]))]\n",
    "\n",
    "    for tracksterId in range(len(tracksters)):\n",
    "        # I found at most only one trackster per point, which will get fraction 1.0\n",
    "        for lcId in tracksters[tracksterId]:\n",
    "            output_idx_tmp[lcId][0] = tracksterId\n",
    "            output_enFr_tmp[lcId][0] = 1.0\n",
    "    # Adding my results to my global output for validation\n",
    "    output_idx.append(output_idx_tmp)\n",
    "    output_enFr.append(output_enFr_tmp)"
   ]
  }
 ],
 "metadata": {
  "interpreter": {
   "hash": "916dbcbb3f70747c44a77c7bcd40155683ae19c65e1c03b4aa3499c5328201f1"
  },
  "kernelspec": {
   "display_name": "Python 3.9.5 64-bit",
   "name": "python3"
  },
  "language_info": {
   "codemirror_mode": {
    "name": "ipython",
    "version": 3
   },
   "file_extension": ".py",
   "mimetype": "text/x-python",
   "name": "python",
   "nbconvert_exporter": "python",
   "pygments_lexer": "ipython3",
   "version": "3.9.5"
  }
 },
 "nbformat": 4,
 "nbformat_minor": 4
}