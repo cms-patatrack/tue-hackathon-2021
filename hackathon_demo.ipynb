{
 "cells": [
  {
   "cell_type": "code",
   "execution_count": null,
   "metadata": {},
   "outputs": [],
   "source": [
    "#!pip install numpy uproot"
   ]
  },
  {
   "cell_type": "code",
   "execution_count": null,
   "metadata": {},
   "outputs": [],
   "source": [
    "import awkward as ak\n",
    "import numpy as np\n",
    "import uproot as uproot\n",
    "import matplotlib\n",
    "import matplotlib.pyplot as plt"
   ]
  },
  {
   "cell_type": "code",
   "execution_count": null,
   "metadata": {},
   "outputs": [],
   "source": [
    "## Test files\n",
    "#  Single photon events\n",
    "file = uproot.open('/eos/cms/store/user/bmaier/hgcal/hue_hackathon/samples_v1/test/singlephoton/singlephoton_merged_test.root')\n",
    "#  Di-photon events\n",
    "#file = uproot.open('/eos/cms/store/user/bmaier/hgcal/hue_hackathon/samples_v1/test/diphoton/diphoton_merged_test.root')\n",
    "#  Single pion events\n",
    "#file = uproot.open('/eos/cms/store/user/bmaier/hgcal/hue_hackathon/samples_v1/test/singlepion/singlepion_merged_test.root')\n",
    "#  Four-particle events\n",
    "#file = uproot.open('/eos/cms/store/user/bmaier/hgcal/hue_hackathon/samples_v1/test/fourparts/fourparts_merged_test.root')\n",
    "#  Multi-particle events\n",
    "#file = uproot.open('/eos/cms/store/user/bmaier/hgcal/hue_hackathon/samples_v1/test/multiparts/multiparts_merged_test.root')\n",
    "\n",
    "\n",
    "\n",
    "\n",
    "## Evaluation files\n",
    "#  Single photon events\n",
    "#file = uproot.open('/eos/cms/store/user/bmaier/hgcal/hue_hackathon/samples_v1/eval/singlephoton/singlephoton_merged_eval.root')\n",
    "#  Di-photon events\n",
    "#file = uproot.open('/eos/cms/store/user/bmaier/hgcal/hue_hackathon/samples_v1/eval/diphoton/diphoton_merged_eval.root')\n",
    "#  Single pion events\n",
    "#file = uproot.open('/eos/cms/store/user/bmaier/hgcal/hue_hackathon/samples_v1/eval/singlepion/singlepion_merged_eval.root')\n",
    "#  Four-particle events\n",
    "#file = uproot.open('/eos/cms/store/user/bmaier/hgcal/hue_hackathon/samples_v1/eval/fourparts/fourparts_merged_eval.root')\n",
    "#  Multi-particle events\n",
    "#file = uproot.open('/eos/cms/store/user/bmaier/hgcal/hue_hackathon/samples_v1/eval/multiparts/multiparts_merged_eval.root')\n",
    "\n",
    "\n",
    "file.keys()"
   ]
  },
  {
   "cell_type": "code",
   "execution_count": null,
   "metadata": {},
   "outputs": [],
   "source": [
    "events = file['lCToTSTsAssoc/lCTo3simTS_tree']\n",
    "events.show()"
   ]
  },
  {
   "cell_type": "markdown",
   "metadata": {},
   "source": [
    "## Input Features"
   ]
  },
  {
   "cell_type": "markdown",
   "metadata": {},
   "source": [
    " - `event`: the index of the events in the file\n",
    " \n",
    "Each event contains a varying number of point. For each point:\n",
    " - `pos_x`, `pos_y`, `pos_z`: (x,y,z) coordinates of the point\n",
    " - `time`: time of the point (not all points have timing information -- a value of -99 indicates no timing information)\n",
    " - `eta`, `phi`: [pseudorapidity](https://en.wikipedia.org/wiki/Pseudorapidity), azimuth angle of the point\n",
    " - `layer`: layer number of the point\n",
    " - `energy`: energy of the point\n",
    "\n",
    "**[Note]** `simTst_idx` and `enFraction` are the truth labels.\n",
    "\n",
    "These features are [JaggedArray](https://github.com/scikit-hep/awkward-0.x). This can be thought of as an array of arrays, where the first level of indices correspond to the event indices, and the second level correspond to the LCs within each event."
   ]
  },
  {
   "cell_type": "code",
   "execution_count": null,
   "metadata": {
    "scrolled": true
   },
   "outputs": [],
   "source": [
    "# To get the total number of events in the file\n",
    "totEvents = len(events['event'].array())\n",
    "totEvents"
   ]
  },
  {
   "cell_type": "code",
   "execution_count": null,
   "metadata": {},
   "outputs": [],
   "source": [
    "# Using all the events in the file may take too long for quick development. Hence start out with only a few to test things.\n",
    "nEvents = 20\n",
    "#nEvents = totEvents\n",
    "\n",
    "# To get the information of all points from all events in the file\n",
    "id = events['id'].array(entry_stop=nEvents)\n",
    "pos_x = events['pos_x'].array(entry_stop=nEvents)\n",
    "pos_y = events['pos_y'].array(entry_stop=nEvents)\n",
    "pos_z = events['pos_z'].array(entry_stop=nEvents)\n",
    "energy = events['energy'].array(entry_stop=nEvents)\n",
    "eta = events['eta'].array(entry_stop=nEvents)\n",
    "phi = events['phi'].array(entry_stop=nEvents)\n",
    "simTst_idx = events['simTst_idx'].array(entry_stop=nEvents)"
   ]
  },
  {
   "cell_type": "code",
   "execution_count": null,
   "metadata": {},
   "outputs": [],
   "source": [
    "# To access energy of all points from the first event: this returns a regular numpy array\n",
    "energy[0]"
   ]
  },
  {
   "cell_type": "code",
   "execution_count": null,
   "metadata": {},
   "outputs": [],
   "source": [
    "# To get the number of points in each event\n",
    "nPoints_perEv = ak.num(energy)\n",
    "nPoints_perEv"
   ]
  },
  {
   "cell_type": "code",
   "execution_count": null,
   "metadata": {
    "scrolled": false
   },
   "outputs": [],
   "source": [
    "# to pad/truncate to a regular 2D array\n",
    "ak.pad_none(energy, 2, clip=True)"
   ]
  },
  {
   "cell_type": "code",
   "execution_count": null,
   "metadata": {},
   "outputs": [],
   "source": [
    "# To flatten the jagged array to a 1d array\n",
    "ak.flatten(energy)"
   ]
  },
  {
   "cell_type": "code",
   "execution_count": null,
   "metadata": {
    "scrolled": true
   },
   "outputs": [],
   "source": [
    "# To get the total number of points within the events\n",
    "len(ak.flatten(energy))"
   ]
  },
  {
   "cell_type": "markdown",
   "metadata": {},
   "source": [
    "### Truth definition\n",
    "\n",
    "The target is to assign each point to up to 3 particle showers - aka Tracksters - sorted by the higher fraction of the point's energy contained. The truth information is as follows:\n",
    "\n",
    " - `trueTrackster_idx`: index of the (up to 3) showers associated with the point at hand; if the point is associated to less than 3 showers, the remaining array elements are -1;\n",
    " - `enFraction`: the fraction of the point's energy that should be assigned to each of the (up to 3) showers."
   ]
  },
  {
   "cell_type": "code",
   "execution_count": null,
   "metadata": {},
   "outputs": [],
   "source": [
    "trueTrackster_idx = events['simTst_idx'].array(entry_stop=nEvents)\n",
    "trueTrackster_idx[0]"
   ]
  },
  {
   "cell_type": "code",
   "execution_count": null,
   "metadata": {},
   "outputs": [],
   "source": [
    "enFraction = events['enFraction'].array(entry_stop=nEvents)\n",
    "enFraction[0]"
   ]
  },
  {
   "cell_type": "code",
   "execution_count": null,
   "metadata": {},
   "outputs": [],
   "source": [
    "events['energy'].array(entry_stop=nEvents)[0]"
   ]
  },
  {
   "cell_type": "markdown",
   "metadata": {},
   "source": [
    "## Dataset Visualisation"
   ]
  },
  {
   "cell_type": "code",
   "execution_count": null,
   "metadata": {},
   "outputs": [],
   "source": [
    "font = {'size'   : 16}\n",
    "matplotlib.rc('font', **font)\n",
    "def plotXYZ(pos_x, pos_y, pos_z, energy, enFraction, trueTrackster_idx, eventToVisualize, visualizeEnergy):\n",
    "    '''\n",
    "        Helper function to plot the points.\n",
    "        The points belonging to the same shower are colored with the same color.\n",
    "        The points that are shared among different showers are coloured with only one color (first index)\n",
    "        pos_x : Points X positions \n",
    "        pos_y : Points Y positions \n",
    "        pos_z : Points Z positions \n",
    "        energy: Points Energies \n",
    "        enFraction: Points Energy Fractions \n",
    "        trueTrackster_idx: True Trackster to which the point is associated to\n",
    "        eventToVisualize: Event you want to visualize, integer.\n",
    "        visualizeEnergy: Marker size proportional to point energy, bool\n",
    "    '''\n",
    "    fractionEnergy = []\n",
    "    #compute the energy contribution of each points in each cluster (Trackster) to which it is associated\n",
    "    for i in range(len(enFraction[eventToVisualize])):\n",
    "        tmp = []\n",
    "        for j in range(len(enFraction[eventToVisualize][i])): \n",
    "            if(enFraction[eventToVisualize][i][j] != -1):\n",
    "                # Energy * fraction\n",
    "                tmp.append(enFraction[eventToVisualize][i][j] * energy[eventToVisualize][i])\n",
    "            else:\n",
    "                tmp.append(0)\n",
    "        fractionEnergy.append(tmp)   \n",
    "    fig = plt.figure(figsize = (13,13))\n",
    "    ax = fig.add_subplot(2,2,1,projection='3d')\n",
    "    xs = ak.to_numpy(pos_x[eventToVisualize])\n",
    "    ys = ak.to_numpy(pos_y[eventToVisualize])\n",
    "    zs = ak.to_numpy(pos_z[eventToVisualize])\n",
    "    trueTrackster_idxAk = ak.Array(trueTrackster_idx) #transform to awkward array\n",
    "    trueTrackster_idxs = ak.to_numpy(trueTrackster_idxAk[eventToVisualize])\n",
    "    if(visualizeEnergy == True):\n",
    "        sizes = [s[0]*5 for s in fractionEnergy] #marker size proportional to point energy\n",
    "    else:\n",
    "        sizes = 5\n",
    "    ax.scatter(xs, zs, ys, s = sizes, marker = 'o', c = trueTrackster_idxs[:,0], alpha = .5)\n",
    "    ax.set_xlabel('$X$', rotation=150)\n",
    "    ax.set_ylabel('$Z$')\n",
    "    ax.set_zlabel('$Y$',rotation=60)\n",
    "    ax.set_title(\"XYZ\")\n",
    "    fig.suptitle(f\"Event {eventToVisualize}\", fontsize = 16)\n",
    "    ax = fig.add_subplot(2,2,2)\n",
    "    ax.scatter(xs, ys,s = sizes, c = trueTrackster_idxs[:,0], alpha = .5)\n",
    "    ax.set_xlabel('$X$')\n",
    "    ax.set_ylabel('$Y$')\n",
    "    ax.set_title(\"X-Y\")\n",
    "    ax = fig.add_subplot(2,2,3)\n",
    "    ax.scatter(xs, zs,s = sizes, c = trueTrackster_idxs[:,0], alpha = .5)\n",
    "    ax.set_xlabel('$X$')\n",
    "    ax.set_ylabel('$Z$')\n",
    "    ax.set_title(\"X-Z\")\n",
    "    ax = fig.add_subplot(2,2,4)\n",
    "    ax.scatter(ys, zs,s = sizes, c = trueTrackster_idxs[:,0], alpha = .5)\n",
    "    ax.set_xlabel('$Y$')\n",
    "    ax.set_ylabel('$Z$')\n",
    "    ax.set_title(\"Y-Z\")\n",
    "    plt.show()    \n",
    "\n",
    "def plotEtaPhi(eta, phi, energy, enFraction, trueTrackster_idx, eventToVisualize, visualizeEnergy):\n",
    "    '''\n",
    "        Helper function to plot the points in the (\\eta,\\phi) plane.\n",
    "        The points belonging to the same shower are colored with the same color.\n",
    "        The points that are shared among different showers are coloured with only one color (first index)\n",
    "        eta : Points \\eta \n",
    "        phi : Points \\phi positions \n",
    "        energy: Points Energies \n",
    "        enFraction: Points Energy Fractions \n",
    "        trueTrackster_idx: True Trackster to which the point is associated to\n",
    "        eventToVisualize: Event you want to visualize, integer.\n",
    "        visualizeEnergy: Marker size proportional to point energy, bool\n",
    "    '''\n",
    "\n",
    "    #compute the energy contribution of each points in each cluster (Trackster) to which it is associated\n",
    "    fractionEnergy = []\n",
    "    for i in range(len(enFraction[eventToVisualize])):\n",
    "        tmp = []\n",
    "        for j in range(len(enFraction[eventToVisualize][i])): \n",
    "            if(enFraction[eventToVisualize][i][j] != -1):\n",
    "                # Energy * fraction\n",
    "                tmp.append(enFraction[eventToVisualize][i][j] * energy[eventToVisualize][i])\n",
    "            else:\n",
    "                tmp.append(0)\n",
    "        fractionEnergy.append(tmp)   \n",
    "    fig = plt.figure(figsize = (7,7))\n",
    "    if(visualizeEnergy == True):\n",
    "        sizes = [s[0]*5 for s in fractionEnergy] #marker size proportional to point energy\n",
    "    else:\n",
    "        sizes = 5\n",
    "    trueTrackster_idxAk = ak.Array(trueTrackster_idx) #transform to awkward array\n",
    "    trueTrackster_idxs = ak.to_numpy(trueTrackster_idxAk[eventToVisualize])\n",
    "    plt.scatter(eta[eventToVisualize], phi[eventToVisualize], s = sizes,  c = trueTrackster_idxs[:,0], alpha = .5 ) \n",
    "    plt.xlabel(\"$\\eta$\")\n",
    "    plt.ylabel(\"$\\phi$\")\n",
    "    plt.title(f\"Event {eventToVisualize} - ($\\eta$,$\\phi$)\")\n",
    "    plt.show()"
   ]
  },
  {
   "cell_type": "code",
   "execution_count": null,
   "metadata": {},
   "outputs": [],
   "source": [
    "eventToVisualize = 11\n",
    "\n",
    "plotXYZ(pos_x, pos_y, pos_z, energy, enFraction, trueTrackster_idx, eventToVisualize, True)\n",
    "plotEtaPhi(eta, phi, energy, enFraction, trueTrackster_idx, eventToVisualize, True)"
   ]
  },
  {
   "cell_type": "markdown",
   "metadata": {},
   "source": [
    "## Pattern Recognition\n",
    "\n",
    "An example of pattern recognition is provided. \n",
    "In first approximation it looks like points belonging to the same particle have very similar eta and phi coordinates. \n",
    "Maybe we can just create a big 2D tiling structure, and cluster together all those points that lie in the same tile?"
   ]
  },
  {
   "cell_type": "code",
   "execution_count": null,
   "metadata": {},
   "outputs": [],
   "source": [
    "points = list()\n",
    "\n",
    "for evt in range(nEvents):\n",
    "    points.append(np.array(list(zip(id[evt],pos_x[evt],pos_y[evt],pos_z[evt],eta[evt],phi[evt],energy[evt]))))  "
   ]
  },
  {
   "cell_type": "code",
   "execution_count": null,
   "metadata": {},
   "outputs": [],
   "source": [
    "from math import pi\n",
    "\n",
    "# points never exceed 3.2 in eta\n",
    "maxEta = 3.2\n",
    "# points are never smaller than 1.5 in eta\n",
    "minEta = 1.5\n",
    "etaRange = maxEta - minEta\n",
    "nEtaBins = 20\n",
    "nPhiBins = 64\n",
    "# let's linearize the 2-D tiling\n",
    "nBins = nEtaBins * nPhiBins\n",
    "\n",
    "etaBinSize = etaRange/nEtaBins\n",
    "# phi goes from -pi to pi, so phiRange would be 2*pi\n",
    "phiBinSize = 2*pi/nPhiBins"
   ]
  },
  {
   "cell_type": "code",
   "execution_count": null,
   "metadata": {},
   "outputs": [],
   "source": [
    "def clamp(num, min_value, max_value):\n",
    "    \"\"\"Clamps num between two boundaries, min_value and max_value.\"\"\"\n",
    "    return int(max(min(num, max_value), min_value))\n",
    "\n",
    "def etaBin(eta):\n",
    "    bin = (eta - minEta) / etaBinSize\n",
    "    return clamp(bin,0,nEtaBins-1)\n",
    "    \n",
    "\n",
    "def phiBin (phi) : \n",
    "    bin =  (phi + pi) / phiBinSize\n",
    "    return clamp(bin,0,nPhiBins-1)\n",
    "\n",
    "\n",
    "def globalBin(eta, phi):\n",
    "    return phiBin(phi) + etaBin(eta) * nPhiBins\n",
    "\n",
    "output_idx  = list()\n",
    "output_enFr = list()\n",
    "allTracksters = list()\n",
    "for evt in range(nEvents):\n",
    "    # the histogram contains a list of point ids per bin\n",
    "    histogram = list()\n",
    "    for i in range(nBins):\n",
    "        histogram.append(list())\n",
    "    tracksters = list()\n",
    "    for p in points[evt] :\n",
    "        # given eta and phi of a point, find the bin in the histogram \n",
    "        binId = globalBin(p[4],p[5])\n",
    "        bin = histogram[binId]\n",
    "        # append the id of the point to the list of the bin\n",
    "        bin.append(int(p[0]))\n",
    "    # now that we have filled the histogram,\n",
    "    # check the bins that contain at least 5 points\n",
    "    # and create a trackster with those ids\n",
    "    for bin in histogram :\n",
    "        tmpTrackster = []\n",
    "        for point_id in bin:\n",
    "            tmpTrackster.append(point_id)\n",
    "        if len(tmpTrackster)>0:\n",
    "            tracksters.append(tmpTrackster)\n",
    "    \n",
    "    # create output lists \n",
    "    # for every point we want as a result the three top tracksters it contributed to\n",
    "    output_idx_tmp = [[-1, -1, -1] for point in range(len(points[evt]))]\n",
    "    # and the fraction of the energy that was contributed to it\n",
    "    output_enFr_tmp = [[0.0, 0.0, 0.0] for point in range(len(points[evt]))]\n",
    "\n",
    "    for tracksterId in range(len(tracksters)):\n",
    "#         print(\"trackster: \", tracksterId, \" contains \", tracksters[tracksterId])\n",
    "\n",
    "        # I found at most only one trackster per point, which will get fraction 1.0\n",
    "        for lcId in tracksters[tracksterId]:\n",
    "            output_idx_tmp[lcId][0] = tracksterId\n",
    "            output_enFr_tmp[lcId][0] = 1.0\n",
    "#     for lcId in output_idx_tmp:\n",
    "#         print(\"layercluster \", lcId, \" associated to trackster : \" , lcId[0])\n",
    "    # Adding my results to my global output for validation\n",
    "    output_idx.append(output_idx_tmp)\n",
    "    output_enFr.append(output_enFr_tmp)\n",
    "    allTracksters.append(tracksters)\n",
    "    #print(allTracksters)"
   ]
  },
  {
   "cell_type": "code",
   "execution_count": null,
   "metadata": {},
   "outputs": [],
   "source": [
    "# print (output_idx[0])"
   ]
  },
  {
   "cell_type": "code",
   "execution_count": null,
   "metadata": {},
   "outputs": [],
   "source": [
    "#Visualize the results obtained ....\n",
    "eventToVisualize = 11\n",
    "plotXYZ(pos_x, pos_y, pos_z, energy, output_enFr, output_idx, eventToVisualize, True)\n",
    "plotEtaPhi(eta, phi, energy, output_enFr, output_idx, eventToVisualize, True)"
   ]
  },
  {
   "cell_type": "code",
   "execution_count": null,
   "metadata": {},
   "outputs": [],
   "source": [
    "#... and compare with the truth\n",
    "eventToVisualize = 11\n",
    "plotXYZ(pos_x, pos_y, pos_z, energy, enFraction, trueTrackster_idx, eventToVisualize, True)\n",
    "plotEtaPhi(eta, phi, energy, enFraction, trueTrackster_idx, eventToVisualize, True)"
   ]
  },
  {
   "cell_type": "markdown",
   "metadata": {},
   "source": [
    "### Score calculation\n",
    "It is based on two quantities: purity and efficiency. \n",
    "\n",
    "#### Purity\n",
    "Fraction of the energy of the reco trackster that comes from a single simTrackster.\n",
    "\n",
    "#### Efficiency \n",
    "A simTrackster contributes to the efficiency if there is a an associated reconstructed trackster. A Reconstructed trackster is associated if it contains at least 50% of the energy of the simTrackster.\n",
    "\n",
    "efficiency = number of associated reco tracksters / number of simtracksters\n"
   ]
  },
  {
   "cell_type": "code",
   "execution_count": null,
   "metadata": {},
   "outputs": [],
   "source": [
    "## initialize list to hold the LCs\n",
    "## lc_from_sim[0]: all LCs corresponding to SimTrackster 0, \n",
    "## lc_from_sim[1]: all LCs corresponding to SimTrackster 1, etc...\n",
    "lc_idx_from_sim = list()\n",
    "lc_enFrac_from_sim = list()\n",
    "\n",
    "## Total number of simTracksters in the event\n",
    "maxSimTracksterId=0\n",
    "numSimTracksters = list()\n",
    "for i_evt in range(nEvents):\n",
    "#     print(i_evt)\n",
    "    maxSimTracksterIdInEvent = 0\n",
    "    for i_sim_trackster in simTst_idx[i_evt]: \n",
    "#         print(i_sim_trackster)\n",
    "        tmp_maxSimTracksterId = np.amax(i_sim_trackster,axis=0)\n",
    "        if tmp_maxSimTracksterId > maxSimTracksterIdInEvent:\n",
    "            maxSimTracksterIdInEvent = tmp_maxSimTracksterId\n",
    "        if (tmp_maxSimTracksterId>maxSimTracksterId):\n",
    "            maxSimTracksterId=tmp_maxSimTracksterId\n",
    "    \n",
    "    for i in range(maxSimTracksterId+1):\n",
    "        lc_idx_from_sim.append(list())\n",
    "        lc_enFrac_from_sim.append(list())\n",
    "    numSimTracksters.append(maxSimTracksterIdInEvent+1)\n",
    "#     print(numSimTracksters)\n",
    "\n",
    "\n",
    "        \n",
    "simTracksters = list()\n",
    "simTracksters_lcenergy = list()\n",
    "simTracksterTotalEnergy = list()\n",
    "for i in range(nEvents):\n",
    "    simTracksters.append(list())\n",
    "    simTracksters_lcenergy.append(list())\n",
    "\n",
    "    \n",
    "for i_evt in range(nEvents):\n",
    "    simTracksters_tmp = list()\n",
    "    for i in range(numSimTracksters[i_evt]):\n",
    "        simTracksters[i_evt].append(list())\n",
    "\n",
    "    simTracksterTotalEnergy.append([0]*numSimTracksters[i_evt])\n",
    "\n",
    "    eventId = i_evt\n",
    "    numberOfLayerClustersInEvent = nPoints_perEv[eventId]\n",
    "\n",
    "    print(numberOfLayerClustersInEvent)\n",
    "    for lcId in range(numberOfLayerClustersInEvent):\n",
    "        simTrackstersInLC = simTst_idx[eventId][lcId]\n",
    "        energyFractionsOfLCinSimTrackster = enFraction[eventId][lcId]\n",
    "        totalEnergyOfLayerCluster = energy[eventId][lcId]\n",
    "        for i in range(3):\n",
    "            if(simTrackstersInLC[i]!= -1):\n",
    "                simTracksters[i_evt][simTrackstersInLC[i]].append(lcId)\n",
    "                simTracksterTotalEnergy[eventId][simTrackstersInLC[i]] += energyFractionsOfLCinSimTrackster[i]*totalEnergyOfLayerCluster\n",
    "\n",
    "    \n",
    "\n",
    "\n",
    "#print(simTracksters[9][1])\n",
    "print(simTracksters[0])\n",
    "#print(simTracksters_lcenergy)"
   ]
  },
  {
   "cell_type": "code",
   "execution_count": null,
   "metadata": {},
   "outputs": [],
   "source": [
    "## compare SIM and RECO Tracksters\n",
    "\n",
    "def matchLCToSimTrackster(sim_tracksters,lc_from_reco_trackster):\n",
    "    for lc_from_sim_trackster in sim_tracksters:\n",
    "        if (lc_from_reco_trackster == lc_from_sim_trackster):\n",
    "            return True\n",
    "\n",
    "\n",
    "eff_num_0p50 = 0\n",
    "tot_tracksters = 0\n",
    "tot_simTracksters = 0\n",
    "pur_total = [0 for i in range(nEvents)]\n",
    "shooting_rate = [0 for i in range(nEvents)]\n",
    "\n",
    "## loop over the events\n",
    "for i_evt in range(nEvents):\n",
    "    \n",
    "    eff_num_0p50_trackster = 0;\n",
    "    tot_tracksters += len(allTracksters[i_evt])\n",
    "    tot_simTracksters += numSimTracksters[i_evt]\n",
    "    enFractionInEvent = enFraction[i_evt]\n",
    "    sumEn_reco = [0 for i in range(len(allTracksters[i_evt]))]\n",
    "    purityPerTrackster = [0 for i in range(len(allTracksters[i_evt]))]\n",
    "    reconstructedSimTrackster = [0 for i in range(numSimTracksters[i_evt])]\n",
    "    tracksterId = 0\n",
    "    ## loop over the trackster of each event\n",
    "    for i_reco_trackster in allTracksters[i_evt]:        \n",
    "        sumEn_reco_match = [0 for i in range(numSimTracksters[i_evt])]\n",
    "        simTracksterEnergyFraction = [0 for i in range(numSimTracksters[i_evt])]\n",
    "        for i_lc_reco in i_reco_trackster:\n",
    "            tmp_lc_sum_en = 0\n",
    "            for j in range(3):\n",
    "                if output_idx[i_evt][i_lc_reco][j] == -1:\n",
    "                    continue\n",
    "                if output_idx[i_evt][i_lc_reco][j] == tracksterId : \n",
    "                    tmp_lc_sum_en += energy[i_evt][i_lc_reco]*output_enFr[i_evt][i_lc_reco][j]\n",
    "                    for k in range(3) :\n",
    "                        i_sim_trackster = trueTrackster_idx[i_evt][i_lc_reco][k]\n",
    "                        if i_sim_trackster != -1:\n",
    "                            sim_tracksterFraction = enFractionInEvent[i_lc_reco][k]\n",
    "                            tmp_lc_energy = energy[i_evt][i_lc_reco]*min(sim_tracksterFraction,output_enFr[i_evt][i_lc_reco][j])\n",
    "                            sumEn_reco_match[i_sim_trackster] += tmp_lc_energy\n",
    "                            simTracksterEnergyFraction[i_sim_trackster] += tmp_lc_energy/simTracksterTotalEnergy[i_evt][i_sim_trackster]\n",
    "      \n",
    "                \n",
    "#                 print(tmp_lc_energy)\n",
    "            sumEn_reco[tracksterId] += tmp_lc_sum_en\n",
    "        maxSharedEnergy = np.amax(sumEn_reco_match)\n",
    "        if sumEn_reco[tracksterId] > 0:\n",
    "            purityPerTrackster[tracksterId] = maxSharedEnergy/sumEn_reco[tracksterId]\n",
    "        tracksterId += 1\n",
    "        for i in range(len(simTracksterEnergyFraction)):\n",
    "            if simTracksterEnergyFraction[i] > 0.5:\n",
    "                reconstructedSimTrackster[i] = 1\n",
    "\n",
    "    eff_num_0p50 += sum(reconstructedSimTrackster)\n",
    "    eff_num_0p50_trackster += sum(reconstructedSimTrackster)\n",
    "    \n",
    "    shooting_rate[i_evt] = len(purityPerTrackster)/numSimTracksters[i_evt]\n",
    "    pur_total[i_evt] = sum(purityPerTrackster)/len(purityPerTrackster)\n",
    "    print (\"Mean trackster efficiency / evt = \" , eff_num_0p50_trackster/numSimTracksters[i_evt] )\n",
    "    print (\"Mean trackster purity / evt     = \" , pur_total[i_evt] )\n",
    "    print (\"Number of Reco Tracksters / number of SimTracksters /evt = \", len(purityPerTrackster)/numSimTracksters[i_evt])\n",
    "#     print (\"Mean trackster efficiency / evt = \" , eff_num_0p50_trackster/numSimTracksters )\n",
    "\n",
    "print (\" \")\n",
    "print (\"Reco trackster efficiency = \" , eff_num_0p50/tot_simTracksters )\n",
    "print (\"Reco trackster purity     = \" , sum(pur_total)/nEvents )\n",
    "print (\"Shooting rate = \", sum(shooting_rate)/nEvents)"
   ]
  },
  {
   "cell_type": "code",
   "execution_count": null,
   "metadata": {},
   "outputs": [],
   "source": []
  }
 ],
 "metadata": {
  "interpreter": {
   "hash": "916dbcbb3f70747c44a77c7bcd40155683ae19c65e1c03b4aa3499c5328201f1"
  },
  "kernelspec": {
   "display_name": "Python 3",
   "language": "python",
   "name": "python3"
  },
  "language_info": {
   "codemirror_mode": {
    "name": "ipython",
    "version": 3
   },
   "file_extension": ".py",
   "mimetype": "text/x-python",
   "name": "python",
   "nbconvert_exporter": "python",
   "pygments_lexer": "ipython3",
   "version": "3.8.6"
  }
 },
 "nbformat": 4,
 "nbformat_minor": 4
}
